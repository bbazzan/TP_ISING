{
  "nbformat": 4,
  "nbformat_minor": 0,
  "metadata": {
    "colab": {
      "name": "Tp Ising - Bazzan, Cerizola, Mollerach, Queirolo.ipynb",
      "provenance": [],
      "collapsed_sections": [],
      "include_colab_link": true
    },
    "kernelspec": {
      "display_name": "Python 3",
      "language": "python",
      "name": "python3"
    },
    "language_info": {
      "codemirror_mode": {
        "name": "ipython",
        "version": 3
      },
      "file_extension": ".py",
      "mimetype": "text/x-python",
      "name": "python",
      "nbconvert_exporter": "python",
      "pygments_lexer": "ipython3",
      "version": "3.8.2"
    }
  },
  "cells": [
    {
      "cell_type": "markdown",
      "metadata": {
        "id": "view-in-github",
        "colab_type": "text"
      },
      "source": [
        "<a href=\"https://colab.research.google.com/github/bbazzan/TP_ISING/blob/master/Tp_Ising_Bazzan%2C_Cerizola%2C_Mollerach%2C_Queirolo.ipynb\" target=\"_parent\"><img src=\"https://colab.research.google.com/assets/colab-badge.svg\" alt=\"Open In Colab\"/></a>"
      ]
    },
    {
      "cell_type": "markdown",
      "metadata": {
        "colab_type": "text",
        "id": "g9cydY_bKQkm"
      },
      "source": [
        "**<h1>Práctica computacional: modelo de Ising en 2D</h1>**\n",
        "\n",
        "El objetivo de la práctica es calcular varios observables (magnetización, energía, susceptibilidad, calor específico) de una red de Ising bidimensional en función de la temperatura, y ver cómo a $T\\simeq 2.27$ (usamos unidades en las que $J=k=1$) tiene lugar una transición de fase. También calcularemos la función de correlación y estudiaremos la dependencia de la longitud de correlación con la temperatura. Dado que el número de términos en la función de partición es gigantesco ($2^{100}$ para una red $10\\times 10$, algo así como la edad del universo en décimas de picosegundo), no podemos aspirar a calcular la función de partición exactamente. En su lugar, lo que hacemos es generar estados aleatorios de la red distribuidos según el ensamble canónico, y tomar promedios sobre varios de esos estados. Para lograr eso, partimos de un estado inicial cualquiera y le aplicamos el **algoritmo de Metropolis**, que consta de los siguientes pasos:\n",
        "\n",
        "1.   Elegimos un sitio de la red al azar.\n",
        "2.   Calculamos la diferencia de energía $\\Delta E$ que resultaría de darle vuelta a ese spin.\n",
        "3. Si $\\Delta E\\le 0$, le damos vuelta al spin; si $\\Delta E>0$, le damos vuelta al spin con probabilidad $e^{-\\beta\\Delta E}$.\n",
        "\n",
        "Al estado resultante le volvemos a aplicar el algoritmo, y así sucesivamente. Después de ser iterado muchas veces, el algoritmo empieza a generar estados distribuidos según el ensamble canónico. Tomando promedios sobre varios de esos estados, podremos calcular los observables de interés.\n",
        "\n",
        "\n",
        "\n",
        "\n",
        "\n",
        "\n",
        "\n",
        "\n"
      ]
    },
    {
      "cell_type": "markdown",
      "metadata": {
        "colab_type": "text",
        "id": "PNX7FYMVWIvh"
      },
      "source": [
        "# Bibliotecas\n",
        "\n",
        "Importamos las bibliotecas de Python que vamos a usar: numpy, que permite definir y operar con matrices, genera números aleatorios, incluye todo tipo de funciones matemáticas, etc; matplotlib.pyplot, que permite hacer gráficos; y numba, que es un compilador que hace que las funciones corran mucho más rápido. También importamos la función curve_fit del paquete scipy.optimize, que nos servirá para hacer ajustes."
      ]
    },
    {
      "cell_type": "code",
      "metadata": {
        "colab_type": "code",
        "id": "sS_tJRpCC7YZ",
        "colab": {}
      },
      "source": [
        "import numpy as np\n",
        "import matplotlib.pyplot as plt\n",
        "from numba import njit\n",
        "from scipy.optimize import curve_fit"
      ],
      "execution_count": null,
      "outputs": []
    },
    {
      "cell_type": "markdown",
      "metadata": {
        "colab_type": "text",
        "id": "NCtfL7LvVg1n"
      },
      "source": [
        "# Funciones\n",
        "\n",
        "Aquí van a tener que definir dos funciones. La primera, **`h(S)`**, calcula la energía por partícula de la red en el estado **`S`** (nótese que **`S`** es una matriz de $1$'s y $-1$'s). Asumimos que no hay campo magnético y usamos condiciones de contorno periódicas, de manera que el primer spin de una fila/columna es vecino del último. Si la red es $L\\times L$, la energía total es entonces \n",
        "\n",
        "$$H(S)=-\\sum_{i,j=1}^L S_{ij}(S_{i-1 j}+S_{ij-1}),$$\n",
        "\n",
        "y la energía por partícula es esto dividido por $L^2$. La segunda función, **`metropolis(S,prob)`**, aplica el algoritmo de Metropolis al estado **`S`** y devuelve tres cosas: un nuevo estado **`S`**, el incremento de magnetización **`dm`** y el incremento de energía por partícula **`de`**. Deben notar que los únicos valores positivos que puede tomar el incremento de energía $\\Delta E$ resultante de dar vuelta a un spin son $\\Delta E=4$ y $\\Delta E=8$; el argumento **`prob`** es un vector de dos componentes, **`prob[0]`** y **`prob[1]`**, que son las probabilidades con las que daremos vuelta al spin si el incremento de energía es $4$ y $8$ respectivamente. Algunos consejos:\n",
        "\n",
        "\n",
        "*   Para implementar las condiciones de contorno periódicas, conviene recordar que las listas de Python empiezan con el elemento $0$, el elemento $-1$ es el último, el $-2$ el penúltimo, etc. También les va a ser útil la función **`%`**, que calcula el residuo de la división entre dos enteros (es decir, **`m%n`** es el residuo de la división entre **`m`** y **`n`**).\n",
        "*   ¡Sean económicos! Para calcular $\\Delta E$ no deben calcular la energía total de los dos estados (el estado original y el estado con el spin seleccionado dado vuelta) y restar, sino darse cuenta de que esta cantidad sólo involucra al estado del spin seleccionado y el de sus cuatro primeros vecinos.\n",
        "*   Para dar vuelta a un spin con probabilidad $p$, lo que hacemos es generar un número aleatorio entre $0$ y $1$ y darle vuelta al spin si ese número es menor que $p$.\n",
        "\n",
        "Una vez hayan definido estas funciones, primero de todo asegúrense de que andan bien probándolas con una matriz $3\\times 3$, por ejemplo tomando **`S=np.ones((3,3))`**. Ahí pueden calcular a mano la energía por partícula y chequear que **`h(S)`** da el resultado correcto. También pueden asegurarse de que la funcion **`metropolis(S,prob)`** da vuelta a algún spin más fácilmente a temperaturas altas que a temperaturas bajas, y que los incrementos de magnetización y energía por partícula que calcula son los correctos. Una vez hayan hecho eso, redefinan la función **`metropolis(S,prob)`** de manera que aplique el algoritmo de Metropolis no una sola vez sino tantas como sitios tiene la red. Es decir, su función definitiva debería aplicar el algoritmo al estado original, y después volvérselo a aplicar al estado resultante, y así tantas veces como sitios tiene la red. De vuelta, comprueben que esta función anda bien con una matriz sencilla."
      ]
    },
    {
      "cell_type": "code",
      "metadata": {
        "id": "vy_Qu6hzGU_h",
        "colab_type": "code",
        "colab": {}
      },
      "source": [
        "@njit \n",
        "def h(S): \n",
        "    '''Calcula la energía de la red en el estado S'''\n",
        "    \n",
        "    energia = 0\n",
        "    L = len(S)\n",
        "    for i in range(L):\n",
        "        for j in range(L):\n",
        "            energia += -S[i,j] * (S[i-1,j] + S[i,j-1])\n",
        "    return energia / L**2\n",
        "\n",
        "@njit\n",
        "def metropolis(S, prob): \n",
        "    '''Aplica el algoritmo de Metropolis al estado S, y devuelve la configuración final S, la \n",
        "diferencia de magnetización (de) y la diferencia de energía por partícula (dm)'''\n",
        "    \n",
        "    # Inicializamos variables\n",
        "    L = len(S)\n",
        "    de = 0\n",
        "    dm = 0\n",
        "    # Aleatoriamente tomamos los valores de los indices i,j entre 0 y L - 1\n",
        "    for k in range(L*L):\n",
        "        i = np.random.randint(L)\n",
        "        j = np.random.randint(L)\n",
        "        spin = S[i,j]\n",
        "\n",
        "        # Nos fijamos cuánto es la diferencia de energía y la diferencia de \n",
        "        #magnetización si diesemos vuelta el spin\n",
        "        dif_energia = 2 * S[i,j] * (S[(i+1) % L, j] + S[i-1, j] + \n",
        "                                    S[i, (j+1) % L] + S[i, j-1])\n",
        "        \n",
        "        # Si cambiando el spin obtenemos menor energía nos quedamos con ese\n",
        "        # sino tenemos una probabilidad prob[] de quedarnos con el estado cambiado\n",
        "        if dif_energia<=0 or np.random.rand()<prob[int((dif_energia-4)/4)]:\n",
        "            de += dif_energia / L**2\n",
        "            dm += -2 * S[i,j] / L**2\n",
        "            S[i, j] *= -1\n",
        "\n",
        "    return S, dm, de"
      ],
      "execution_count": null,
      "outputs": []
    },
    {
      "cell_type": "markdown",
      "metadata": {
        "id": "Q_4Da9LGGVAc",
        "colab_type": "text"
      },
      "source": [
        "**Probamos h(S)**"
      ]
    },
    {
      "cell_type": "code",
      "metadata": {
        "id": "FnJWrtyLGVAk",
        "colab_type": "code",
        "colab": {
          "base_uri": "https://localhost:8080/",
          "height": 170
        },
        "outputId": "ae69c43e-5463-4945-8208-26b1b640bc31"
      },
      "source": [
        "# Tomamos una red de 1's y calculo su energía con h(S)\n",
        "s_prueba_h = np.ones((3, 3), dtype=int)\n",
        "energia = h(s_prueba_h)\n",
        "print(\"Red:\")\n",
        "print(s_prueba_h)\n",
        "print(\"\\nValor esperado de la energía: -2\")\n",
        "print(\"Valor obtenido: \", energia)\n",
        "\n",
        "# Nos fijamos si el valor es el esperado\n",
        "if energia == -2:\n",
        "    print(\"\\nLa función h(S) funciona como debería.\")"
      ],
      "execution_count": null,
      "outputs": [
        {
          "output_type": "stream",
          "text": [
            "Red:\n",
            "[[1 1 1]\n",
            " [1 1 1]\n",
            " [1 1 1]]\n",
            "\n",
            "Valor esperado de la energía: -2\n",
            "Valor obtenido:  -2.0\n",
            "\n",
            "La función h(S) funciona como debería.\n"
          ],
          "name": "stdout"
        }
      ]
    },
    {
      "cell_type": "markdown",
      "metadata": {
        "id": "z4PqxE9fGVBJ",
        "colab_type": "text"
      },
      "source": [
        "**Probamos metropolis(S, prob)**"
      ]
    },
    {
      "cell_type": "code",
      "metadata": {
        "colab_type": "code",
        "id": "8jy9JAWh4gjo",
        "colab": {
          "base_uri": "https://localhost:8080/",
          "height": 357
        },
        "outputId": "34909117-4327-43bb-8ccf-a26ba6035475"
      },
      "source": [
        "from math import isclose\n",
        "\n",
        "# Modiicamos metropolis(S, prob) para que nos devuelva el numero de spines cambiados\n",
        "@njit\n",
        "def num_flipped(S, prob):\n",
        "    '''Devuelve el numero de spines cambiados al aplicar el algoritmo de metropolis'''\n",
        "\n",
        "    L = len(S)\n",
        "    flipped = 0\n",
        "    for k in range(L*L):\n",
        "        i = np.random.randint(L)\n",
        "        j = np.random.randint(L)\n",
        "        spin = S[i,j]\n",
        "        dif_energia = 2 * S[i,j] * (S[(i+1) % L, j] + S[i-1, j] + \n",
        "                                    S[i, (j+1) % L] + S[i, j-1])\n",
        "        \n",
        "        if dif_energia<=0 or np.random.rand()<prob[int((dif_energia-4)/4)]:\n",
        "            S[i, j] *= -1\n",
        "            flipped += 1\n",
        "     \n",
        "    return flipped\n",
        "\n",
        "\n",
        "print(\"Tomamos una configuración al azar, aplicamos el algoritmo para \"\n",
        "      \"distintas temperaturas y nos fijamos el numero de spines dados vuelta.\\n\")\n",
        "# Tomamos una red de spines al azar\n",
        "s_prueba_met = 2*np.random.randint(2, size=(30, 30)) - 1\n",
        "\n",
        "# Calculamos prob[] para dos temperaturas distintas\n",
        "T1 = 0.5\n",
        "prob1=np.array([np.exp(-4/T1),np.exp(-8/T1)])\n",
        "T2 = 10\n",
        "prob2=np.array([np.exp(-4/T2),np.exp(-8/T2)])\n",
        "\n",
        "# Nos fijamos cuantos spines se cambian para cada caso\n",
        "spines_cambiados_1 = num_flipped(s_prueba_met, prob1)\n",
        "spines_cambiados_2 = num_flipped(s_prueba_met, prob2)\n",
        "print(\"Para T =\", T1, \"K se cambiaron\", spines_cambiados_1, \"spines\")\n",
        "print(\"Para T =\", T2, \"K se cambiaron\", spines_cambiados_2, \"spines \\n\")\n",
        "\n",
        "# Checkeamos que a mayor temperatura cambian más fácilmente\n",
        "if ((T1 < T2 and spines_cambiados_1 < spines_cambiados_2) or \n",
        "    (T1 > T2 and spines_cambiados_1 > spines_cambiados_2)):\n",
        "    primera_prueba = True\n",
        "else:\n",
        "    primera_prueba = False\n",
        "    \n",
        "print(\"Ahora veamos que devuelve los valores correctos de de y dm \\n\")\n",
        "\n",
        "# Calculamos la energía por particula con h(S) y la magnetización como el \n",
        "# valor medio de la red inicilmente\n",
        "m_inicial = np.mean(s_prueba_met)\n",
        "e_inicial = h(s_prueba_met)\n",
        "\n",
        "# Tomamos los valores de de y dm que nos devuelve la función metropolis(S, prob)\n",
        "s_prueba_met, dm, de = metropolis(s_prueba_met, prob1)\n",
        "\n",
        "# Calculamos la energía por particula y la magnetización de la red resultante\n",
        "m_final = np.mean(s_prueba_met)\n",
        "e_final = h(s_prueba_met)\n",
        "\n",
        "print(\"Valores iniciales:\")\n",
        "print(\"e = \", round(e_inicial, 2))\n",
        "print(\"m = \", round(m_inicial, 2))\n",
        "print(\"\")\n",
        "print(\"Valores finales:\")\n",
        "print(\"e = \", round(e_final, 2))\n",
        "print(\"m = \", round(m_final, 2))\n",
        "print(\"\")\n",
        "print(\"Valores obtenidos con la función metropolis(S, prob):\")\n",
        "print(\"de = \", round(de, 2))\n",
        "print(\"dm = \", round(dm, 2))\n",
        "print(\"\")\n",
        "\n",
        "# Nos fijamos si los valores de y dm que devuelve metropolis(S, prob) son los correctos\n",
        "# Usamos la función 'isclose()' con una tolerancia de 1e-6 en vez de '==' \n",
        "# ya que pueden haber diferencias por redondeo\n",
        "if (isclose(e_final, e_inicial+de, abs_tol=1e-6) and \n",
        "    isclose(m_final, m_inicial+dm, abs_tol=1e-6)):\n",
        "    segunda_prueba = True\n",
        "else:\n",
        "    segunda_prueba = False\n",
        "\n",
        "# Nos fijamos que metropolis(S, prob) haya pasado las dos pruebas\n",
        "if primera_prueba and segunda_prueba:\n",
        "    print(\"La función metropolis(S, prob) funciona como debería.\")"
      ],
      "execution_count": null,
      "outputs": [
        {
          "output_type": "stream",
          "text": [
            "Tomamos una configuración al azar, aplicamos el algoritmo para distintas temperaturas y nos fijamos el numero de spines dados vuelta.\n",
            "\n",
            "Para T = 0.5 K se cambiaron 448 spines\n",
            "Para T = 10 K se cambiaron 745 spines \n",
            "\n",
            "Ahora veamos que devuelve los valores correctos de de y dm \n",
            "\n",
            "Valores iniciales:\n",
            "e =  -0.27\n",
            "m =  0.05\n",
            "\n",
            "Valores finales:\n",
            "e =  -0.84\n",
            "m =  0.08\n",
            "\n",
            "Valores obtenidos con la función metropolis(S, prob):\n",
            "de =  -0.56\n",
            "dm =  0.02\n",
            "\n",
            "La función metropolis(S, prob) funciona como debería.\n"
          ],
          "name": "stdout"
        }
      ]
    },
    {
      "cell_type": "markdown",
      "metadata": {
        "colab_type": "text",
        "id": "lUb7inIr38Vm"
      },
      "source": [
        "**Explicación h(S):** \n",
        "\n",
        "Representamos la energia total con la variable `energia`. Empezamos inicializando éste valor a 0 y tomamos $L$ como `len(S)` ya que trabajaremos con matrices cuadradas. \n",
        "\n",
        "Para poder realizar la sumatoria necesitamos recorrer todos los elemtentos de la matriz, para ello hacemos dos búcles `for`, primero uno donde se recorra una variable `i` de $0$ a $L-1$, y dentro de éste otro donde se recorra una variable `j` de la misma manera. De esta manera podemos recorrer todos los elemtentos de la matriz con `S[i,j]`.\n",
        "\n",
        "Entonces en cada iteración podemos calcular cada término $-S_{ij}(S_{i-1 j}+S_{ij-1})$ y sumarselo a la variable `energia` con `energia += -S[i,j] * (S[i-1,j] + S[i,j-1])`. Notemos que no hay errores de índices, si estamos en la primera fila estamos viendo los elementos `S[0,j]`, y de acuerdo a las condiciones de contorno períodicas `S[-1,j]` debería ser el elemento en la misma columna y última fila, lo cual es cierto ya que en Python el último elemento tiene indice $-1$. Lo mismo pasa con `j`.\n",
        "\n",
        "Una vez ejecutados los búcles la función devuelve el valor de `energia` pero dividido por $L^2$ ya que éste valor es la energía total y nos piden la energía por partícula.\n",
        "\n",
        "**Explicación metropolis(S, prob):** \n",
        "\n",
        "Empezamos inicializando las variables de diferencia de magnetización (`dm`) y energía por particula (`de`) a $0$ y como antes tomamos $L$ como `len(S)`. Como se nos pide que la función aplique el algoritmo tantas veces como elemtentos de $S$ hacemos un búcle `for` que recorra una variable `k` de $0$ a $L^2$, dentro escribimos el algoritmo en sí. \n",
        "\n",
        "Primero tomamos un elemento $S_{i j}$ aleatoriamente, para ello tomamos valores aleatorios entre $0$ y $L-1$ para las variables `i` y `j`, luego calculamos la diferencia de energía si diesemos vuelta ese spin. Para el spin elegido y sus cuatro primeros vecinos tenemos una energía\n",
        "\n",
        "$$E_{i,j} = -S_{i,j}(S_{i+1,j} + S_{i-1,j} + S_{i,j+1} + S_{i,j-1}),$$\n",
        "\n",
        "y si disemos vuelta el spin ahora tendríamos\n",
        "\n",
        "$$E_{i,j} = S_{i,j}(S_{i+1,j} + S_{i-1,j} + S_{i,j+1} + S_{i,j-1}).$$\n",
        "\n",
        "Entonces la diferencia de energía $\\Delta E$ que resultaría de cambiar el spin sería\n",
        "\n",
        "$$\\Delta E_{i,j} = 2 S_{i,j}(S_{i+1,j} + S_{i-1,j} + S_{i,j+1} + S_{i,j-1}).$$\n",
        "\n",
        "Entonces calculamos este valor y lo guardamos en una variable `dif_energia`. Para referirnos al elemento de la izquierda de $S_{ij}$ y al de arriba volvemos a usar las expresiones de antes, `S[i, j-1]` y `S[i-1, j]` respectivamente. Pero ahora para el elemento de la derecha y el de abajo no podemos usar `S[i, j+1]` y `S[i+1, j]` ya que por ejemplo si estuviesemos viendo algún elemento de la última fila `S[L-1, j]` el vecino de \"abajo\" sería `S[L,j]`, pero esto está mal ya que `i` va de $0$ a $L-1$. En este caso necesitamos que este vecino sea `S[0,j]`, es decir, que esté en la misma columna pero en la primera fila. \n",
        "\n",
        "Para solucionar este problema podemos utilizar el operador módulo `%`. `m % n` es el residuo de la dívision entre `m`y `n`, si `m` es menor que `n` entonces `m % n = m` y si son iguales `m % n = 0`.\n",
        "Entonces podemos escribir el elemento de la derecha y el de abajo como `S[i, (j+1) % L]` y `S[(i+1) % L, j]`. \n",
        "\n",
        "Si estamos considerando un `i` menor que $L-1$ entonces `S[(i+1) % L, j] = S[i+1, j]`, pero si estamos en el caso especial en que `i = L - 1` tenemos `S[(L-1+1) % L, j] = S[L%L, j] = S[0, j]`, y lo mismo para `j`.\n",
        "\n",
        "Juntando todo, calculamos la diferencia de energía como `dif_energia = 2 * S[i,j] * (S[(i+1) % L, j] + S[i-1, j] + S[i, (j+1) % L] + S[i, j-1])`. \n",
        "\n",
        "Ahora nos fijamos si esta diferencia es menor o igual a cero (`if dif_energia <= 0`), de ser así damos vuelta el spin. Sino damos vuelta el spin con probabilidad $e^{-\\beta\\Delta E}$. Si $\\Delta E > 0$ solo puede ser $4$ u $8$, las probabilidades para estos dos casos son las componentes del argumento `prob`. Entonces se da vuelta el spin si al generar un número aleatorio entre $0$ y $1$ éste es menor que `prob[idx]`, donde `idx = 0` para $\\Delta E = 4$ y `idx = 1` para $\\Delta E = 8$, para ello tomamos `idx = (dif_energia-4)/4)`. Como numba compila las funciones antes de ser ejecutadas y de antemano no sabe que `idx` es un entero, para que no haya errores tomamos `idx = int((dif_energia-4)/4))`. Juntando todo esto el condicional para dar vuelta el spin se puede escribir como \n",
        "`if dif_energia<=0 or np.random.rand()<prob[int((dif_energia-4)/4)]:`\n",
        "\n",
        "Al dar vuelta el spin también debemos sumar la diferencia de energía por particula a la variable `de` y la diferencia de magnetización a `dm`. El primer valor no es más que $\\Delta E / L^2$. Veamos el segundo, la magnetización $M$ es el valor medio de la red entonces\n",
        "\n",
        "$$M = \\frac{(S_{0 0} + ... + S_{i j} + ... + S_{L-1 L-1})}{L^2},$$\n",
        "\n",
        "y si damos vuelta el spin \n",
        "\n",
        "$$M' = \\frac{(S_{0 0} + ... - S_{i j} + ... + S_{L-1 L-1})}{L^2},$$\n",
        "\n",
        "entonces \n",
        "\n",
        "$$\\Delta M = -\\frac{2 S_{i j}}{L^2}.$$\n",
        "\n",
        "Una vez que se ejecúte el búcle la función devuelve la red final `S`, la diferencia de energía por partícula `de` y la diferencia de magnetización `dm`.\n"
      ]
    },
    {
      "cell_type": "markdown",
      "metadata": {
        "colab_type": "text",
        "id": "lTqTodmpZpcF"
      },
      "source": [
        "# Termalización\n",
        "\n",
        "Partiendo de un cierto estado inicial, estudiamos cuántos pasos son necesarios para que el sistema llegue al equilibrio, es decir, para que los distintos estados empiecen a estar distribuidos según el ensamble canónico. Para eso, graficamos la magnetización y la energía por partícula en función del paso; el equilibrio se alcanza cuando estas cantidades empiezan a fluctuar alrededor de un valor fijo, en lugar de ser netamente crecientes o decrecientes.\n",
        "El número de pasos necesarios para alcanzar el equilibrio dependerá de la temperatura, así que hay que hay que hacer el análisis para varias temperaturas. También puede depender del lado de la red, así que cuando cambien el valor de este parámetro van a tener que rehacer este análisis. Fíjense que, cerca de la temperatura crítica, la magnetización oscila entre $1$ y $-1$."
      ]
    },
    {
      "cell_type": "code",
      "metadata": {
        "colab_type": "code",
        "id": "NXJ0JVAU6VUC",
        "colab": {
          "base_uri": "https://localhost:8080/",
          "height": 388
        },
        "outputId": "8a8b324e-2fe5-4bfa-d853-c494ab4c3f83"
      },
      "source": [
        "L = 60 #Lado de la red\n",
        "beta = 1 / 0.5\n",
        "\n",
        "nequilibrio = 10000 #Numero de pasos que proponemos para llegar al equilibrio\n",
        "\n",
        "prob = np.array([np.exp(-4*beta), np.exp(-8*beta)])\n",
        "\n",
        "#Estado inicial\n",
        "#Opcion 1: todos los spines apuntan para arriba\n",
        "#S = np.ones((L, L), dtype=int)\n",
        "#Opcion 2: matriz aleatoria de 1's y -1's\n",
        "S = 2*np.random.randint(2, size=(L, L)) - 1\n",
        "\n",
        "m = np.zeros(nequilibrio) #magnetización en función del paso\n",
        "e = np.zeros(nequilibrio) #energia por particula en funcion del paso\n",
        "m[0] = np.mean(S)\n",
        "e[0] = h(S)\n",
        "\n",
        "for n in range(1,nequilibrio):\n",
        "  S, dm, de = metropolis(S, prob)\n",
        "  m[n] = m[n-1] + dm\n",
        "  e[n] = e[n-1] + de\n",
        "\n",
        "plt.figure(figsize=(12, 6))\n",
        "plt.subplot(2, 2, 1)\n",
        "plt.plot(m)\n",
        "plt.ylabel('Magnetizacion')\n",
        "plt.subplot(2, 2, 3)\n",
        "plt.plot(e)\n",
        "plt.ylabel('Energia')\n",
        "plt.xlabel('Paso')\n",
        "plt.subplot(1, 2, 2)\n",
        "plt.imshow(S) #plotea el estado final, dandole un color al 1 y otro al -1\n",
        "plt.show()"
      ],
      "execution_count": null,
      "outputs": [
        {
          "output_type": "display_data",
          "data": {
            "image/png": "[encoded data removed]",
            "text/plain": [
              "<Figure size 864x432 with 3 Axes>"
            ]
          },
          "metadata": {
            "tags": [],
            "needs_background": "light"
          }
        }
      ]
    },
    {
      "cell_type": "markdown",
      "metadata": {
        "colab_type": "text",
        "id": "OcvaGUd3dI0a"
      },
      "source": [
        "# Promedios\n",
        "\n",
        "Estudiamos cuántos pasos hacen falta para calcular buenos promedios. Para eso, graficamos el valor medio de la magnetización y la energía por partícula en función del número de pasos utilizados para calcularlo (empezando a contar después de haber llegado al equilibrio). Cuando el valor medio se haga constante, el número de pasos será suficiente. De vuelta, el número de pasos apropiado depende de la temperatura y del lado de la red. Van a ver que, cerca de la temperatura crítica, las fluctuaciones se hacen más grandes y por lo tanto es necesario promediar sobre un número más grande de pasos. Para librarnos de las fluctuaciones de la magnetización entre $1$ y $-1$ cerca de la temperatura crítica, que son inmanejables, lo que tomamos es el valor medio de su módulo."
      ]
    },
    {
      "cell_type": "code",
      "metadata": {
        "colab_type": "code",
        "id": "yvAuAHy-9JgA",
        "colab": {
          "base_uri": "https://localhost:8080/",
          "height": 280
        },
        "outputId": "29ee4b55-cb08-43d9-e4e4-71cd9ceb787a"
      },
      "source": [
        "L=30\n",
        "beta=1/2\n",
        "\n",
        "nequilibrio=1000 #Este valor lo decidimos en base a lo anterior\n",
        "npromedio=20000 #Numero de pasos tentativo para calcular promedios\n",
        "\n",
        "prob=np.array([np.exp(-4*beta),np.exp(-8*beta)])\n",
        "\n",
        "S=np.ones((L,L),dtype=int) #Estado inicial\n",
        "\n",
        "for n in range(nequilibrio):\n",
        "    S,dm,de=metropolis(S,prob) #Termalizamos\n",
        "\n",
        "m=np.zeros(npromedio)\n",
        "e=np.zeros(npromedio) #Magnetizacion y energia por particula en funcion del paso\n",
        "m[0]=np.mean(S)\n",
        "e[0]=h(S)\n",
        "\n",
        "mmedia=[m[0]]\n",
        "emedia=[e[0]] #Valores medios en funcion del numero de pasos para promediar\n",
        "\n",
        "for n in range(1,npromedio):\n",
        "  S,dm,de=metropolis(S,prob)\n",
        "  m[n]=m[n-1]+dm\n",
        "  e[n]=e[n-1]+de\n",
        "  mmedia.append(np.mean(abs(m[0:n])))\n",
        "  emedia.append(np.mean(e[0:n]))\n",
        "\n",
        "plt.figure()\n",
        "plt.subplot(2,1,1)\n",
        "plt.plot(mmedia)\n",
        "plt.ylabel('magnet media')\n",
        "plt.subplot(2,1,2)\n",
        "plt.plot(emedia)\n",
        "plt.ylabel('energia media')\n",
        "plt.xlabel('número de pasos')\n",
        "plt.show()"
      ],
      "execution_count": null,
      "outputs": [
        {
          "output_type": "display_data",
          "data": {
            "image/png": "[encoded data removed]",
            "text/plain": [
              "<Figure size 432x288 with 2 Axes>"
            ]
          },
          "metadata": {
            "tags": [],
            "needs_background": "light"
          }
        }
      ]
    },
    {
      "cell_type": "markdown",
      "metadata": {
        "colab_type": "text",
        "id": "hbUP5bRql3nN"
      },
      "source": [
        "# Transición de fase\n",
        "\n",
        "Aquí hay que calcular la magnetización media, la energía media por partícula, la susceptibilidad y el calor específico para varias temperaturas, graficar el resultado y ver que a una temperatura cercana a la crítica se produce un comportamiento casi brusco. Algunos consejos:\n",
        "\n",
        "*   Para calcular la susceptibilidad y el calor específico no hay que tomar ninguna derivada, hay que usar la relación entre estas cantidades y la varianza de la magnetización y la energía por partícula respectivamente.\n",
        "*   No propongan un nuevo estado inicial para cada temperatura: aprovechen el último estado de la temperatura anterior, porque así van a necesitar menos pasos para termalizar. Si empiezan a temperaturas bajas, conviene tomar como estado inicial la matriz de $1$'s, y si empiezan a temperaturas altas conviene tomar como estado inicial una matriz aleatoria de $1$'s y $-1$'s.\n",
        "*   Quizá conviene dar más pasos para termalizar y/o tomar promedios cerca de la temperatura crítica que lejos de ella.\n",
        "\n",
        "\n",
        "\n"
      ]
    },
    {
      "cell_type": "code",
      "metadata": {
        "colab_type": "code",
        "id": "BtiMpVHs4cZw",
        "colab": {
          "base_uri": "https://localhost:8080/",
          "height": 1000
        },
        "outputId": "5653fa17-f683-41cd-e4ec-d36538893ecd"
      },
      "source": [
        "\n",
        "\n",
        "L = 30              # Lado de la red\n",
        "nequilibrio = 20000   # Numero de pasos para llegar al equilibrio\n",
        "npromedio = 100000    # Numero de pasos tentativo para calcular promedios\n",
        "\n",
        "#Estado inicial\n",
        "S = np.ones((L, L), dtype=int)\n",
        "\n",
        "# Elegimos un rango de temperaturas y el tamaño del paso\n",
        "temperaturas = np.arange(1.5, 3.5, 0.05)\n",
        "\n",
        "# Arrays que contendrán los valores medios para cada temperatura\n",
        "mmedia = np.zeros(len(temperaturas))\n",
        "emedia = np.zeros(len(temperaturas))\n",
        "chimedia = np.zeros(len(temperaturas))\n",
        "cvmedia = np.zeros(len(temperaturas))\n",
        "\n",
        "# Magnetizacion y energía en cada paso\n",
        "m = np.zeros(npromedio) \n",
        "e = np.zeros(npromedio) \n",
        "\n",
        "for i, temp in enumerate(temperaturas):\n",
        "    beta = 1/temp\n",
        "    prob = np.array([np.exp(-4*beta), np.exp(-8*beta)]) \n",
        "\n",
        "    # Corremos metropolis para termalizar\n",
        "    for n in range(1, nequilibrio):\n",
        "        S, dm, de = metropolis(S, prob)\n",
        "    \n",
        "    m[0] = np.mean(S)\n",
        "    e[0] = h(S)\n",
        "\n",
        "    # Corremos metropolis para calcular el promedio de las magnitudes deseadas\n",
        "    for n in range(1, npromedio):\n",
        "        S,dm,de = metropolis(S,prob)\n",
        "        m[n] = m[n-1] + dm\n",
        "        e[n] = e[n-1] + de\n",
        "    \n",
        "    # Calculamos los valores medios, la susceptibilidad y el calor específico\n",
        "    mmedia[i] = np.mean(abs(m))\n",
        "    emedia[i] = np.mean(e)\n",
        "    chimedia[i] = L**2*beta*np.std(abs(m))**2\n",
        "    cvmedia[i] = L**2*beta**2*np.std(e)**2\n",
        "    \n",
        "\n",
        "plt.figure()\n",
        "plt.plot(temperaturas, mmedia, '.')\n",
        "plt.ylabel(r'$\\langle M \\rangle$')\n",
        "plt.xlabel('Temperatura')\n",
        "plt.figure()\n",
        "plt.plot(temperaturas, emedia, '.')\n",
        "plt.ylabel(r'$\\langle E \\rangle$')\n",
        "plt.xlabel('Temperatura')\n",
        "plt.figure()\n",
        "plt.plot(temperaturas, chimedia, '.')\n",
        "plt.ylabel(r'$/Chi$')\n",
        "plt.xlabel('Temperatura')\n",
        "plt.figure()\n",
        "plt.plot(temperaturas, cvmedia, '.')\n",
        "plt.ylabel(r'$C_v$')\n",
        "plt.xlabel('Temperatura')\n",
        "plt.show()\n",
        "\n",
        "print('T_c(%i) =' %L, temperaturas[np.argmax(chimedia)])"
      ],
      "execution_count": null,
      "outputs": [
        {
          "output_type": "display_data",
          "data": {
            "image/png": "[encoded data removed]",
            "text/plain": [
              "<Figure size 432x288 with 1 Axes>"
            ]
          },
          "metadata": {
            "tags": [],
            "needs_background": "light"
          }
        },
        {
          "output_type": "display_data",
          "data": {
            "image/png": "[encoded data removed]",
            "text/plain": [
              "<Figure size 432x288 with 1 Axes>"
            ]
          },
          "metadata": {
            "tags": [],
            "needs_background": "light"
          }
        },
        {
          "output_type": "display_data",
          "data": {
            "image/png": "[encoded data removed]",
            "text/plain": [
              "<Figure size 432x288 with 1 Axes>"
            ]
          },
          "metadata": {
            "tags": [],
            "needs_background": "light"
          }
        },
        {
          "output_type": "display_data",
          "data": {
            "image/png": "[encoded data removed]",
            "text/plain": [
              "<Figure size 432x288 with 1 Axes>"
            ]
          },
          "metadata": {
            "tags": [],
            "needs_background": "light"
          }
        },
        {
          "output_type": "stream",
          "text": [
            "T_c(30) = 2.3500000000000005\n"
          ],
          "name": "stdout"
        }
      ]
    },
    {
      "cell_type": "markdown",
      "metadata": {
        "colab_type": "text",
        "id": "rLrQg2us4e3O"
      },
      "source": [
        "Se eligieron las dimensiones de la red y el estado inicial de los espines como todos lso espines apuntando en la misma dirección. Se eligió un rango de temperaturas para realizar el ciclo `for`. Se inicializaron vectores de ceros para ir llenando con los valores de energía y magnetización medias, susceptibilidad y calor especifico. Se inicializan tambien vectores para la energí y la magnetizacion de cada paso del algoritmo de Metrópolis.\n",
        "Dado que el algoritmo correrá dos veces, la primera para termalizar y la segunda para calcular los promedios, se eligió un numero de pasos para termalizar, en particular se eligió un número que funcione para termalizar en la temperatura crítica que también funciona para las otras temperaturas ya que requieren un menor número de pasos para termalizar, y un número de pasos para realizar el cálculo de los valores medios, de un orden de magnitud mayor. En el principio del ciclo `for` se definen el `beta` y el vector `prob` y luego se corre el algoritmo para termalizar. La magnetización y energía media resultantes de la termalización se toman como el primer valor de los vectores `m` y `e`. Luego se corre el algoritmo, ahora para calcular los valores medios en cada paso, que se guardan en `mmedia` y `emedia` como el promedio de los valres de `m` y `e` hasta ese paso y los valores obtenidos en el último paso se guardan como los valores medios a la temperatura utilizada. A partir de la varianza de la energía y la magnetización se calculan la susceptibilidad y el calor específico respectivamente. El ciclo `for` comienza de nuevo teniendo como estado incial el estado final de la temperatura anterior.\n",
        "\n",
        "Para calcular el calor específico de la muestra se utilizó que $<E> = \\frac{-1}{L^2}\\frac{\\partial ln Zc}{\\partial \\beta}$ y $\n",
        "<E^2> = \\frac{1}{L^2}(\\frac{\\partial^2 ln Zc}{\\partial \\beta^2} + (\\frac{\\partial ln Zc}{\\partial \\beta})^2)$, finalmente $(\\Delta E)^2 = <E^2>- <E>^2= \\frac{kT^2}{L^2} \\frac{\\partial <E>}{\\partial T} = \\frac{kT^2}{L^2} C_v$.\n",
        "\n",
        "Para obtener la susceptibilidad $\\chi$ se realizó un cálculo similar, en el que se utilizó la dependencia del hamiltoniano respecto del campo magnético B y luego se hizo tender el mismo a 0. $<M> = \\frac{1}{L^2}\\beta^{-1}\\frac{\\partial ln Zc}{\\partial B}$ y $<M^2> = \\frac{1}{L^2}\\beta^{-2}(\\frac{\\partial^2 ln Zc}{\\partial B^2} + (\\frac{\\partial ln Zc}{\\partial B})^2)$\n",
        ", finalmente $(\\Delta M)^2 = <M^2>- <M>^2= \\frac{1}{L^2}\\beta^{-2}\\frac{\\partial^2 ln Zc}{\\partial B^2} $. Sabiendo que $\\chi = \\frac{\\partial <M>}{\\partial B}$ obtenemos $(\\Delta M)^2L\\beta=\\chi$.\n",
        "\n"
      ]
    },
    {
      "cell_type": "markdown",
      "metadata": {
        "colab_type": "text",
        "id": "9YjL9ny4e4fb"
      },
      "source": [
        "# Correlaciones\n",
        "\n",
        "La **función de correlación** se define como $g(r)=\\langle s_{ij}s_{ij+r}\\rangle-\\langle s_{ij}\\rangle\\langle s_{ij+r}\\rangle$, y se sabe que tiene la forma $g(r)=ae^{-r/\\xi}$. A $\\xi$ se lo conoce como la **longitud de correlación**, y es una función de la temperatura que, en el límite termodinámico, diverge a la temperatura crítica. El objetivo de esta sección es ver eso."
      ]
    },
    {
      "cell_type": "markdown",
      "metadata": {
        "colab_type": "text",
        "id": "APBcV0ake9qb"
      },
      "source": [
        "Lo primero que hay que hacer es definir dos funciones. La primera, **`cor(S)`**, devuelve un vector $c$ de $L/2$ componentes, donde $L$ es el lado de la red, cuya componente $r$ es el promedio de $s_{ij}s_{ij+r}$ sobre toda la red, es decir, \n",
        "\n",
        "$c(r)=\\frac{1}{L^2}\\sum_{i,j=1}^Ls_{ij}s_{ij+r}.$ \n",
        "\n",
        "La segunda función, **`metropolis2(S,prob)`**, implementa el algoritmo de Metropolis, igual que hacía la función **`metropolis(S,prob)`**, pero esta vez, en lugar de devolver el nuevo estado, el incremento de la magnetización y el incremento de energía, devuelve el nuevo estado, el incremento de la magnetización y el incremento del vector $c$. Para definir estas dos funciones deberán prestar mucha atención a las condiciones de contorno periódicas, y tener en cuenta que $c(0)=1$ independientemente del estado, así que el incremento de $c(0)$ siempre es $0$."
      ]
    },
    {
      "cell_type": "code",
      "metadata": {
        "colab_type": "code",
        "id": "poWl7l8YfE6y",
        "colab": {}
      },
      "source": [
        "@njit\n",
        "def cor(S):\n",
        "    L = len(S)\n",
        "    c = np.zeros(int(L/2))\n",
        "    c[0] = 1\n",
        "    for r in range(1, len(c)):\n",
        "        for i in range(L):\n",
        "            for j in range(L):\n",
        "                c[r] += S[i,j] * S[i,(j+r) % L] / L**2\n",
        "                \n",
        "    return c\n",
        "\n",
        "@njit\n",
        "def metropolis2(S,prob): \n",
        "    L = len(S)\n",
        "    dm = 0\n",
        "    dc = np.zeros(int(L/2))\n",
        "\n",
        "    for k in range(L*L):\n",
        "        i = np.random.randint(L)\n",
        "        j = np.random.randint(L)\n",
        "        spin = S[i,j]\n",
        "        dif_energia = 2 * S[i,j] * (S[(i+1) % L, j] + S[i-1, j] + S[i, (j+1) % L] + S[i, j-1])\n",
        "        \n",
        "        if dif_energia<=0 or np.random.rand()<prob[int((dif_energia-4)/4)]:\n",
        "            for r in range(1, len(dc)):\n",
        "                dc[r] += -2 * S[i,j] * (S[i,(j+r) % L] + S[i, j-r]) / L**2\n",
        "            dm += -2 * S[i,j] / L**2\n",
        "            S[i, j] *= -1\n",
        "\n",
        "    return S, dm, dc\n",
        " "
      ],
      "execution_count": null,
      "outputs": []
    },
    {
      "cell_type": "markdown",
      "metadata": {
        "id": "pMiuRo0OE1z7",
        "colab_type": "text"
      },
      "source": [
        "**Prueba**"
      ]
    },
    {
      "cell_type": "code",
      "metadata": {
        "id": "9vHWdxn7E8vs",
        "colab_type": "code",
        "colab": {
          "base_uri": "https://localhost:8080/",
          "height": 340
        },
        "outputId": "b36382f2-97d1-410c-841e-40334ee1acbf"
      },
      "source": [
        "s_prueba = 2*np.random.randint(2, size=(30, 30)) - 1\n",
        "beta = 1/0.5\n",
        "prob=np.array([np.exp(-4*beta),np.exp(-8*beta)])\n",
        "\n",
        "c_inicial = cor(s_prueba)\n",
        "s_prueba, dm, dc = metropolis2(s_prueba, prob)\n",
        "c_final = cor(s_prueba)\n",
        "\n",
        "print(\"Valore inicial:\")\n",
        "print(\"c = \", c_inicial)\n",
        "print(\"\")\n",
        "print(\"Valor final:\")\n",
        "print(\"c = \", c_final)\n",
        "print(\"\")\n",
        "print(\"Diferencia obtenida con la función metropolis2(S, prob):\")\n",
        "print(\"dc = \", dc)\n",
        "print(\"\")\n",
        "print(\"Valor final calvulado con el valor inicial y dc\")\n",
        "print(c_inicial + dc)"
      ],
      "execution_count": null,
      "outputs": [
        {
          "output_type": "stream",
          "text": [
            "Valore inicial:\n",
            "c =  [ 1.          0.01777778  0.04        0.02222222  0.04888889 -0.01777778\n",
            "  0.01777778  0.04444444  0.04444444  0.02666667  0.00888889 -0.01333333\n",
            "  0.00444444  0.04       -0.01777778]\n",
            "\n",
            "Valor final:\n",
            "c =  [ 1.          0.37333333  0.09333333 -0.03111111  0.01777778  0.05333333\n",
            "  0.12        0.03555556 -0.01333333  0.01777778  0.02666667  0.03111111\n",
            "  0.03111111 -0.00888889 -0.00888889]\n",
            "\n",
            "Diferencia obtenida con la función metropolis2(S, prob):\n",
            "dc =  [ 0.          0.35555556  0.05333333 -0.05333333 -0.03111111  0.07111111\n",
            "  0.10222222 -0.00888889 -0.05777778 -0.00888889  0.01777778  0.04444444\n",
            "  0.02666667 -0.04888889  0.00888889]\n",
            "\n",
            "Valor final calvulado con el valor inicial y dc\n",
            "[ 1.          0.37333333  0.09333333 -0.03111111  0.01777778  0.05333333\n",
            "  0.12        0.03555556 -0.01333333  0.01777778  0.02666667  0.03111111\n",
            "  0.03111111 -0.00888889 -0.00888889]\n"
          ],
          "name": "stdout"
        }
      ]
    },
    {
      "cell_type": "markdown",
      "metadata": {
        "colab_type": "text",
        "id": "UZU8sq8j4zQR"
      },
      "source": [
        "**Explicación cor(S):** \n",
        "\n",
        "Empezamos tomando `L = len(S)` como en funciones anteriores e inicializamos el vector `c` con $L/2$ componentes todas iguales a $0$. Asignamos a la primera el valor `c[0] = 1`, ya que este valor es independiente del estado. \n",
        "\n",
        "Ahora creamos un búcle `for` que recorra una variable `r` desde $1$ hasta $L/2 - 1$, para definir cada componente. Como cado uno viene definido por una sumatoria sobre dos indices, al igual que cuando definimos `h(S)` anidamos dos búcles `for` que recorran los indices `i` y `j` de $0$ a $L - 1$ y ahora calculamos cada término $S_{ij}S{i j+r}$ y lo sumamos a `c[r]`. De acuerdo a las condiciones de contorno periódicas utilizamos nuvamente el operador módulo para no tener problema con los indices, y expresamos cada término de la sumatoria como `c[r] += S[i,j] * S[i,(j+r) % L] / L**2`.\n",
        "\n",
        "**Explicación metropolis2(S, prob):**\n",
        "\n",
        "Esta función escencialmente es la misma que `metropolis(S, prob)` con la diferencia de que dentro del condicional `if dif_energia<=0 or np.random.rand()<prob[int((dif_energia-4)/4)]:`, es decir, cuando se da vuelta un spin debemos calcular la diferencia del vector $c$. \n",
        "\n",
        "Para ello primero veamos como varía este vector al cambiar de signo $s_{i j}$. Recordemos que $c(r)$ viene definido por \n",
        "\n",
        "$$c(r)=\\frac{1}{L^2}\\sum_{l,m=1}^L s_{l m}s_{l m+r}.$$ \n",
        "\n",
        "Entonces $S_{i j}$ únicamente aparece en dos términos, primero cuando $l = i$ y $m = j$\n",
        "\n",
        "$$ \\frac{s_{l m}s_{l m+r}}{L^2} = \\frac{s_{i j}s_{i j+r}}{L^2},$$\n",
        "\n",
        "pero también cuando $l = i$ y $m = j - r$\n",
        "\n",
        "$$ \\frac{s_{l m}s_{l m+r}}{L^2} = \\frac{s_{i j - r}s_{i j}}{L^2}.$$\n",
        "\n",
        "Entonces al dar vualta el spin $s_{i j}$ únicamente varían estos dos términos\n",
        "\n",
        "$$ \\frac{s_{i j}s_{i j+r} + s_{i j - r}s_{i j}}{L^2} \\quad \\longrightarrow \\quad - \\frac{s_{i j}s_{i j+r} + s_{i j - r}s_{i j}}{L^2} $$. \n",
        "\n",
        "Y finalmente obtenemos que la variacion de $c(r)$ es \n",
        "\n",
        "$$\\Delta c(r) = -2 s_{i j} \\frac{s_{i j+r} + s_{i j - r}}{L^2}$$.\n",
        "\n",
        "Entonces creamos un búcle `for` que recorra `r` de $1$ a $L - 1$ para definir las componentes de un vector `dc` previamente inicializado con $0's$. Empezamos a partir del índice $1$ ya que $c(r)$ es el mismo para todo estado y entonces no hay variación en esta componente. \n",
        "Para poder calcular esta cantidad utilizamos el operador módulo como venimos haciendo, y entonces a cada componente le sumamos el valor `dc[r] += -2 * S[i,j] * (S[i,(j+r) % L] + S[i, j-r]) / L**2`."
      ]
    },
    {
      "cell_type": "markdown",
      "metadata": {
        "colab_type": "text",
        "id": "lSia9ctkgx2T"
      },
      "source": [
        "Ahora usamos las funciones que acabamos de definir para calcular la función de correlación a tres temperaturas distintas. Ajustamos los datos obtenidos con una función de la forma $a e^{-r/\\xi}$, y de ahí obtenemos la longitud de correlación a esas tres temperaturas."
      ]
    },
    {
      "cell_type": "code",
      "metadata": {
        "colab_type": "code",
        "id": "Zssk32Fvg3G2",
        "colab": {
          "base_uri": "https://localhost:8080/",
          "height": 347
        },
        "outputId": "3ed0c19c-2d25-4d85-80c4-1889e04c49ef"
      },
      "source": [
        "\n",
        "\n",
        "L=30\n",
        "\n",
        "nequilibrio=1000 \n",
        "npromedio=50000\n",
        "\n",
        "\n",
        "l=int(L/2) #numero de componentes del vector c\n",
        "m=np.zeros(npromedio) #magnetizacion en funcion del paso\n",
        "c=np.zeros((l,npromedio)) #vector c en funcion del paso\n",
        "\n",
        "erres=np.arange(l) #dominio de la funcion de correlacion\n",
        "\n",
        "def fitcor(r,a,xi): #funcion con la que vamos a ajustar\n",
        "  return a*np.exp(-r/xi)\n",
        "\n",
        "\n",
        "S=np.ones((L,L),dtype=int)\n",
        "\n",
        "print('Longitud de correlacion:')\n",
        "\n",
        "for T in [2.2,2.3,2.5]:\n",
        "\n",
        "  beta=1/T\n",
        "\n",
        "  prob=np.array([np.exp(-4*beta),np.exp(-8*beta)])\n",
        "\n",
        "  #Termalizamos con la funcion metropolis(S,prob), que es mas rapida\n",
        "  for n in range(nequilibrio):\n",
        "    S,dm,de=metropolis(S,prob)\n",
        "\n",
        "  m[0]=np.mean(S)\n",
        "  c[:,0]=cor(S)\n",
        "\n",
        "  for n in range(1,npromedio):\n",
        "    S,dm,dc=metropolis2(S,prob)\n",
        "    m[n]=m[n-1]+dm\n",
        "    c[:,n]=c[:,n-1]+dc\n",
        "\n",
        "  mmedia=np.mean(abs(m))\n",
        "  correlacion=np.mean(c,axis=1)-mmedia**2 #funcion de correlacion\n",
        "\n",
        "  #Ajustamos:\n",
        "  parametros,covarianza=curve_fit(fitcor,erres,correlacion)\n",
        "  #(la funcion curve_fit devuelve el mejor valor de los parametros\n",
        "  #y tambien la covarianza, que no vamos a usar)\n",
        "\n",
        "  print('T={} => {}'.format(T,parametros[1]))\n",
        "  #plt.plot(erres,correlacion, label='Datos')\n",
        "  plt.plot(erres,fitcor(erres,parametros[0],parametros[1]),label='T={}'.format(T))\n",
        "  \n",
        "plt.xlabel('r')\n",
        "plt.ylabel('Función de correlación')\n",
        "plt.legend()\n",
        "plt.show()"
      ],
      "execution_count": null,
      "outputs": [
        {
          "output_type": "stream",
          "text": [
            "Longitud de correlacion:\n",
            "T=2.2 => 1.3420045633735809\n",
            "T=2.3 => 2.3320645553069337\n",
            "T=2.5 => 2.0067759832179415\n"
          ],
          "name": "stdout"
        },
        {
          "output_type": "display_data",
          "data": {
            "image/png": "[encoded data removed]",
            "text/plain": [
              "<Figure size 432x288 with 1 Axes>"
            ]
          },
          "metadata": {
            "tags": [],
            "needs_background": "light"
          }
        }
      ]
    },
    {
      "cell_type": "markdown",
      "metadata": {
        "colab_type": "text",
        "id": "_JHZbqdihr0C"
      },
      "source": [
        "Por último, hay que barrer un rango de temperaturas que incluya la crítica y obtener un gráfico de la longitud de correlación en función de la temperatura."
      ]
    },
    {
      "cell_type": "code",
      "metadata": {
        "colab_type": "code",
        "id": "Ng-ZnhKR48y4",
        "colab": {
          "base_uri": "https://localhost:8080/",
          "height": 313
        },
        "outputId": "6d029e25-63ef-4c41-be39-b8caf1987a1e"
      },
      "source": [
        "Lvals=np.array([20,35]) \n",
        "\n",
        "nequilibrio=1000 \n",
        "npromedio=50000\n",
        "\n",
        "'''\n",
        "l=int(L/2) #numero de componentes del vector c\n",
        "m=np.zeros(npromedio) #magnetizacion en funcion del paso\n",
        "c=np.zeros((l,npromedio)) #vector c en funcion del paso\n",
        "\n",
        "erres=np.arange(l) #dominio de la funcion de correlacion\n",
        "'''\n",
        "def fitcor(r,a,xi): \n",
        "  return a*np.exp(-r/xi)\n",
        "\n",
        "\n",
        "\n",
        "for L in Lvals:\n",
        "  l=int(L/2) #numero de componentes del vector c\n",
        "  m=np.zeros(npromedio) #magnetizacion en funcion del paso\n",
        "  c=np.zeros((l,npromedio)) #vector c en funcion del paso\n",
        "\n",
        "  erres=np.arange(l) #dominio de la funcion de correlacion\n",
        "  S=np.ones((L,L),dtype=int)\n",
        "\n",
        "\n",
        "  Ts=np.linspace(2.2,2.5,10)\n",
        "  LongCorrs=np.array([])\n",
        "  for T in Ts:\n",
        "\n",
        "    beta=1/T\n",
        "\n",
        "    prob=np.array([np.exp(-4*beta),np.exp(-8*beta)])\n",
        "\n",
        "    #Termalizamos con la funcion metropolis(S,prob), que es mas rapida\n",
        "    for n in range(nequilibrio):\n",
        "      S,dm,de=metropolis(S,prob)\n",
        "\n",
        "    m[0]=np.mean(S)\n",
        "    c[:,0]=cor(S)\n",
        "\n",
        "    for n in range(1,npromedio):\n",
        "      S,dm,dc=metropolis2(S,prob)\n",
        "      m[n]=m[n-1]+dm\n",
        "      c[:,n]=c[:,n-1]+dc\n",
        "\n",
        "    mmedia=np.mean(abs(m))\n",
        "    correlacion=np.mean(c,axis=1)-mmedia**2 #funcion de correlacion\n",
        "\n",
        "    #Ajustamos:\n",
        "    parametros,covarianza=curve_fit(fitcor,erres,correlacion)\n",
        "    #(la funcion curve_fit devuelve el mejor valor de los parametros\n",
        "    #y tambien la covarianza, que no vamos a usar)\n",
        "\n",
        "    #print('T={} => {}'.format(T,parametros[1]))\n",
        "    LongCorrs=np.append(LongCorrs,parametros[1])\n",
        "    \n",
        "  plt.plot(Ts,LongCorrs,'.',label='L='+str(L))\n",
        "\n",
        "plt.plot(Ts,LongCorrs,'.')\n",
        "plt.xlabel('Temperatura [K]')\n",
        "plt.ylabel('Longitud de correlación')\n",
        "plt.legend(loc='best')\n",
        "plt.show()"
      ],
      "execution_count": null,
      "outputs": [
        {
          "output_type": "stream",
          "text": [
            "Longitud de correlacion:\n",
            "Longitud de correlacion:\n"
          ],
          "name": "stdout"
        },
        {
          "output_type": "display_data",
          "data": {
            "image/png": "[encoded data removed]",
            "text/plain": [
              "<Figure size 432x288 with 1 Axes>"
            ]
          },
          "metadata": {
            "tags": [],
            "needs_background": "light"
          }
        }
      ]
    },
    {
      "cell_type": "markdown",
      "metadata": {
        "colab_type": "text",
        "id": "F11QFH9q49f2"
      },
      "source": [
        "**Explicación:** usen esta celda para explicar lo que hicieron\n",
        "\n",
        "Se útlizo el mismo código que en la celda anterior, con el cambio en el barrido de temperaturas, en vez de utilizar `for T in [2.2,2.3,2.5]:` . Se usó\n",
        "\n",
        "`Ts=np.linspace(2.2,2.5,10)`\n",
        "\n",
        "`LongCorrs=np.array([])`\n",
        "\n",
        "`for T in Ts:`\n",
        "\n",
        "Luego se guardó el valor de $\\xi$ dado por el ajuste por $a e^{-r/\\xi}$, en el array previamente inicializado `LongCorrs=np.array([])`. \n",
        "\n",
        "Cuando el loop termina en el array `LongCorrs`, tengo valores de $\\xi$ ordenados respetando el mismo orden que el array `Ts`. Puedo entonces graficar esto mediante `plt.plot(Ts,LongCorrs,'.')`"
      ]
    },
    {
      "cell_type": "markdown",
      "metadata": {
        "colab_type": "text",
        "id": "gu6RFBwHbdcp"
      },
      "source": [
        "# Temperatura crítica\n",
        "\n",
        "La teoría de **finite-size scaling** (Fisher y Barber, Physical Review Letters 28, 1972) muestra que, para una red de Ising bidimensional de lado $L$, el pico de la susceptibilidad ocurre a una temperatura $T_c(L)$ dada por\n",
        "\n",
        "$$T_c(L)=T_c+\\frac{a}{L},$$\n",
        "\n",
        "donde $T_c$ es la temperatura crítica del sistema en el límite termodinámico y $a$ es una constante. Lo que deben hacer en esta sección es determinar $T_c(L)$ para $L=15,30,60,120$ con una precisión aproximada de $0.01$, graficar en función de $1/L$, ajustar los puntos a una recta y de ahí obtener una estimación para la temperatura crítica."
      ]
    },
    {
      "cell_type": "code",
      "metadata": {
        "colab_type": "code",
        "id": "BgfGbnDH5FS7",
        "colab": {
          "base_uri": "https://localhost:8080/",
          "height": 297
        },
        "outputId": "913659a8-142b-4f97-9305-b8acb49ac1e4"
      },
      "source": [
        "def calcularTc(L,nequilibrio,npromedio):\n",
        "  #Estado inicial\n",
        "  S = np.ones((L, L), dtype=int)\n",
        "\n",
        "  # Elegimos un rango de temperaturas y el tamaño del paso\n",
        "  temperaturas = np.arange(2.25, 2.5, 0.01)\n",
        "\n",
        "  # Arrays que contendrán los valores medios para cada temperatura\n",
        "  mmedia = np.zeros(len(temperaturas))\n",
        "  emedia = np.zeros(len(temperaturas))\n",
        "  chimedia = np.zeros(len(temperaturas))\n",
        "  cvmedia = np.zeros(len(temperaturas))\n",
        "\n",
        "  # Magnetizacion y energía en cada paso\n",
        "  m = np.zeros(npromedio) \n",
        "  e = np.zeros(npromedio) \n",
        "\n",
        "  for i, temp in enumerate(temperaturas):\n",
        "      beta = 1/temp\n",
        "      prob = np.array([np.exp(-4*beta), np.exp(-8*beta)]) \n",
        "\n",
        "      # Corremos metropolis para termalizar\n",
        "      for n in range(1, nequilibrio):\n",
        "          S, dm, de = metropolis(S, prob)\n",
        "      \n",
        "      m[0] = np.mean(S)\n",
        "      e[0] = h(S)\n",
        "\n",
        "      # Corremos metropolis para calcular el promedio de las magnitudes deseadas\n",
        "      for n in range(1, npromedio):\n",
        "          S,dm,de = metropolis(S,prob)\n",
        "          m[n] = m[n-1] + dm\n",
        "          e[n] = e[n-1] + de\n",
        "\n",
        "      chimedia[i] = L**2*beta*np.std(abs(m))**2\n",
        "  \n",
        "  return temperaturas[np.argmax(chimedia)]\n",
        "\n",
        "\n",
        "nequilibrio = 20000   # Numero de pasos para llegar al equilibrio\n",
        "npromedio = 100000    # Numero de pasos tentativo para calcular promedios\n",
        "\n",
        "TcdeL= lambda x,Tc,cte: Tc+x*cte #Defino la función dada en la consigna, con x=1/L\n",
        "\n",
        "Lval=np.array([15,30,60,120])\n",
        "\n",
        "\n",
        "Tc=np.array([])\n",
        "for i in Lval:\n",
        "  Ti=calcularTc(i,nequilibrio,npromedio)\n",
        "  Tc=np.append(Tc,Ti)\n",
        "\n",
        "\n",
        "\n",
        "parametros,covarianza=curve_fit(TcdeL,1/Lval,Tc) #Ajusto por lineal\n",
        "\n",
        "\n",
        "\n",
        "plt.plot(1/Lval,TcdeL(1/Lval,parametros[0],parametros[1]),'r-',label='Ajuste')\n",
        "plt.plot(1/Lval,Tc,'b.',label='Simulación')\n",
        "plt.legend(loc='best')\n",
        "plt.ylabel('$T_c (L)$[K]')\n",
        "plt.xlabel('1/L')\n",
        "plt.show()\n",
        "\n",
        "print('Tc={}'.format(parametros[0]))"
      ],
      "execution_count": null,
      "outputs": [
        {
          "output_type": "display_data",
          "data": {
            "image/png": "[encoded data removed]",
            "text/plain": [
              "<Figure size 432x288 with 1 Axes>"
            ]
          },
          "metadata": {
            "tags": [],
            "needs_background": "light"
          }
        },
        {
          "output_type": "stream",
          "text": [
            "Tc=2.2808695655164106\n"
          ],
          "name": "stdout"
        }
      ]
    },
    {
      "cell_type": "markdown",
      "metadata": {
        "colab_type": "text",
        "id": "NLZvHLGF5JeS"
      },
      "source": [
        "**Explicación:** usen esta celda para explicar lo que hicieron\n",
        "\n",
        "El cálculo de Tc funciona consiste en hacer un loop, barriendo los valores pedidos de L, sobre la función `calcularTc(L,nequilibrio,npromedio)` que como su nombre lo indica calcula la temperatura crítica para una dada longitud. Usando el mismo algorítmo que en la sección del cálculo de susceptibilidad, con la diferencia de considerar un paso mucho menor de temperatura, de `0.01`, para cumplir el objetivo planteado.\n",
        "\n",
        "Luego se grafican estos valores obtenidos de temperatura crítica en función de $1/L$. Ajustando estos puntos por la función:\n",
        "\n",
        "$$T_c(L)=T_c+\\frac{a}{L},$$\n",
        "\n",
        "Definida en el código como `TcdeL= lambda x,Tc,cte: Tc+x*cte` (con $x=1/L$) puedo obtener el valor de $T_c$, que será la ordenada al origen del ajuste."
      ]
    },
    {
      "cell_type": "markdown",
      "metadata": {
        "colab_type": "text",
        "id": "vpOfnPva5L--"
      },
      "source": [
        "# Discusión\n",
        "\n",
        "Discutan los resultados obtenidos en la práctica, comparando con campo medio y con la solución exacta de Onsager.\n",
        "\n",
        "\n",
        "\n"
      ]
    },
    {
      "cell_type": "markdown",
      "metadata": {
        "id": "mjiQ1rMb4OaW",
        "colab_type": "text"
      },
      "source": [
        "Utilizando el algoritmo de metrópolis se obtiene $T_c = 2.256$, este valor es muy cercano al obtenido por Onsager en su solución exacta del modelo de Ising para 2D el cual es $T_{CO} = 2.27$. Por otro lado, esta solución numérica es notoriamente más cercana al valor de Onsager que la temperatura crítica obtenido por medio de la aproximaciónd de campo medio, la cual da 4.\n",
        "\n",
        "En el caso del cálculo de $\\xi$, puede observarse que a mayor $L$, mayor será el pico de $\\xi$, lo que se condice con lo esperado por la solución de Onsager, donde para el límite termodinámico de $L\\rightarrow \\infty $, la longitud de correlación $\\xi$ tiende a infinito.\n",
        "\n"
      ]
    }
  ]
}